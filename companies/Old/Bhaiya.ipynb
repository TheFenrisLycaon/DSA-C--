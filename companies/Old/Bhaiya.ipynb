{
 "cells": [
  {
   "cell_type": "code",
   "execution_count": 1,
   "metadata": {},
   "outputs": [],
   "source": [
    "import pandas as pd"
   ]
  },
  {
   "cell_type": "code",
   "execution_count": 44,
   "metadata": {},
   "outputs": [],
   "source": [
    "k = [\n",
    "        ['A', \"B\", \"C\"], \n",
    "        ['str1','str2','str3'], \n",
    "        ['str4','str1','str2'],\n",
    "        ['str2','str3','str1']\n",
    "    ]\n",
    "\n",
    "df = pd.DataFrame(k)"
   ]
  },
  {
   "cell_type": "code",
   "execution_count": 48,
   "metadata": {},
   "outputs": [],
   "source": [
    "toRemove = [ 'str1','str2' ]\n",
    "toEnter = [ 'abc', 'def' ]\n",
    "# print(list(zip(toRemove, toEnter)))\n",
    "for i,j in zip( toRemove , toEnter ):\n",
    "    df = df.replace(i, j)"
   ]
  },
  {
   "cell_type": "code",
   "execution_count": 49,
   "metadata": {
    "scrolled": true
   },
   "outputs": [
    {
     "data": {
      "text/html": [
       "<div>\n",
       "<style scoped>\n",
       "    .dataframe tbody tr th:only-of-type {\n",
       "        vertical-align: middle;\n",
       "    }\n",
       "\n",
       "    .dataframe tbody tr th {\n",
       "        vertical-align: top;\n",
       "    }\n",
       "\n",
       "    .dataframe thead th {\n",
       "        text-align: right;\n",
       "    }\n",
       "</style>\n",
       "<table border=\"1\" class=\"dataframe\">\n",
       "  <thead>\n",
       "    <tr style=\"text-align: right;\">\n",
       "      <th></th>\n",
       "      <th>0</th>\n",
       "      <th>1</th>\n",
       "      <th>2</th>\n",
       "    </tr>\n",
       "  </thead>\n",
       "  <tbody>\n",
       "    <tr>\n",
       "      <th>0</th>\n",
       "      <td>A</td>\n",
       "      <td>B</td>\n",
       "      <td>C</td>\n",
       "    </tr>\n",
       "    <tr>\n",
       "      <th>1</th>\n",
       "      <td>abc</td>\n",
       "      <td>def</td>\n",
       "      <td>str3</td>\n",
       "    </tr>\n",
       "    <tr>\n",
       "      <th>2</th>\n",
       "      <td>str4</td>\n",
       "      <td>abc</td>\n",
       "      <td>def</td>\n",
       "    </tr>\n",
       "    <tr>\n",
       "      <th>3</th>\n",
       "      <td>def</td>\n",
       "      <td>str3</td>\n",
       "      <td>abc</td>\n",
       "    </tr>\n",
       "  </tbody>\n",
       "</table>\n",
       "</div>"
      ],
      "text/plain": [
       "      0     1     2\n",
       "0     A     B     C\n",
       "1   abc   def  str3\n",
       "2  str4   abc   def\n",
       "3   def  str3   abc"
      ]
     },
     "execution_count": 49,
     "metadata": {},
     "output_type": "execute_result"
    }
   ],
   "source": [
    "df"
   ]
  },
  {
   "cell_type": "code",
   "execution_count": 66,
   "metadata": {},
   "outputs": [
    {
     "name": "stdout",
     "output_type": "stream",
     "text": [
      "str1_def_xyz\n"
     ]
    }
   ],
   "source": [
    "main = 'str1_str2_str3_str4_str5_str6'\n",
    "wait = ['str1_str2_str3_xyz', 'str1_str2_def_xyz']\n",
    "want = 'str1_abc_def_xyz'\n",
    "# for i in range(len(wait)):\n",
    "prob = wait[0].split('_')\n",
    "sol = [x.split('_') for x in wait[1:]]\n",
    "\n",
    "res = [prob[0:]]\n",
    "\n",
    "for i in sol:\n",
    "    for j in range(1, len(prob)):\n",
    "        if i[j] != prob[j]:\n",
    "            res.append(i[j])  \n",
    "            break\n",
    "rest = '_'.join(prob[j+1:])\n",
    "res = '_'.join(res)\n",
    "print(res+'_'+rest)"
   ]
  },
  {
   "cell_type": "code",
   "execution_count": null,
   "metadata": {},
   "outputs": [],
   "source": []
  }
 ],
 "metadata": {
  "kernelspec": {
   "display_name": "Python 3.8.5 64-bit ('base': conda)",
   "language": "python",
   "name": "python385jvsc74a57bd0ee12c3c5ada742385a1e64af9d7ac9ff43d5f0a1b5a8df2e7bf01e33db074f18"
  },
  "language_info": {
   "codemirror_mode": {
    "name": "ipython",
    "version": 3
   },
   "file_extension": ".py",
   "mimetype": "text/x-python",
   "name": "python",
   "nbconvert_exporter": "python",
   "pygments_lexer": "ipython3",
   "version": "3.8.5"
  }
 },
 "nbformat": 4,
 "nbformat_minor": 4
}
